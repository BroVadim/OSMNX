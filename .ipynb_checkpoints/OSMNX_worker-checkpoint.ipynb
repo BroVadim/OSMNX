{
 "cells": [
  {
   "cell_type": "code",
   "execution_count": null,
   "id": "6fd35f37-49ec-4cac-b82b-683a16601f0d",
   "metadata": {},
   "outputs": [],
   "source": [
    "import matplotlib\n",
    "import osmnx as ox\n",
    "import geopandas as gpd\n",
    "import traceback\n",
    "import os.path"
   ]
  },
  {
   "cell_type": "code",
   "execution_count": 1,
   "id": "b3a4a494-702e-41df-bb8f-b150d9a63707",
   "metadata": {},
   "outputs": [],
   "source": [
    "class OSMNX:\n",
    "    def __init__(self, polygon_path):\n",
    "        try:\n",
    "            if os.path.exists(polygon_path):\n",
    "                polygon = gpd.read_file(polygon_path)\n",
    "                ox.settings.log_console = True\n",
    "                ox.settings.use_cache = True\n",
    "                area = polygon[\"geometry\"].iloc[0]\n",
    "                self.graph = ox.graph_from_polygon(area, network_type=\"drive\")\n",
    "            else:\n",
    "                raise FileNotFoundError\n",
    "        except FileNotFoundError:\n",
    "            #error = traceback.format_exc()\n",
    "            #print(f'При создании объекта класса произошла ошибка:\\n{error}')\n",
    "            print(f'Файл по пути {polygon_path} не найден')\n",
    "            #print(f'Файл {polygon_path} не найден')\n",
    "        except NameError:\n",
    "            print('Произошла ошибка, проверьте')\n",
    "            \n",
    "\n",
    "    def search_shortest_path(self, latlng1, latlng2):\n",
    "        latlng1 = list(reversed(latlng1))\n",
    "        latlng2 = list(reversed(latlng2))\n",
    "        start_point_node = ox.distance.nearest_nodes(\n",
    "            self.graph,\n",
    "            *latlng1\n",
    "        )\n",
    "        finish_point_node = ox.distance.nearest_nodes(\n",
    "            self.graph,\n",
    "            *latlng2\n",
    "        )\n",
    "        shortest_route = ox.shortest_path(\n",
    "            self.graph,\n",
    "            start_point_node,\n",
    "            finish_point_node\n",
    "        )\n",
    "        return shortest_route"
   ]
  },
  {
   "cell_type": "code",
   "execution_count": 2,
   "id": "9097047c-5bfe-4846-9b20-296bce2e59eb",
   "metadata": {},
   "outputs": [
    {
     "ename": "NameError",
     "evalue": "name 'os' is not defined",
     "output_type": "error",
     "traceback": [
      "\u001b[0;31m---------------------------------------------------------------------------\u001b[0m",
      "\u001b[0;31mNameError\u001b[0m                                 Traceback (most recent call last)",
      "Cell \u001b[0;32mIn[2], line 1\u001b[0m\n\u001b[0;32m----> 1\u001b[0m osmnx_obj \u001b[38;5;241m=\u001b[39m \u001b[43mOSMNX\u001b[49m\u001b[43m(\u001b[49m\u001b[38;5;124;43m'\u001b[39;49m\u001b[38;5;124;43mPOLYGON2.shp\u001b[39;49m\u001b[38;5;124;43m'\u001b[39;49m\u001b[43m)\u001b[49m\n",
      "Cell \u001b[0;32mIn[1], line 4\u001b[0m, in \u001b[0;36mOSMNX.__init__\u001b[0;34m(self, polygon_path)\u001b[0m\n\u001b[1;32m      2\u001b[0m \u001b[38;5;28;01mdef\u001b[39;00m \u001b[38;5;21m__init__\u001b[39m(\u001b[38;5;28mself\u001b[39m, polygon_path):\n\u001b[1;32m      3\u001b[0m     \u001b[38;5;28;01mtry\u001b[39;00m:\n\u001b[0;32m----> 4\u001b[0m         \u001b[38;5;28;01mif\u001b[39;00m \u001b[43mos\u001b[49m\u001b[38;5;241m.\u001b[39mpath\u001b[38;5;241m.\u001b[39mexists(polygon_path):\n\u001b[1;32m      5\u001b[0m             polygon \u001b[38;5;241m=\u001b[39m gpd\u001b[38;5;241m.\u001b[39mread_file(polygon_path)\n\u001b[1;32m      6\u001b[0m             ox\u001b[38;5;241m.\u001b[39msettings\u001b[38;5;241m.\u001b[39mlog_console \u001b[38;5;241m=\u001b[39m \u001b[38;5;28;01mTrue\u001b[39;00m\n",
      "\u001b[0;31mNameError\u001b[0m: name 'os' is not defined"
     ]
    }
   ],
   "source": [
    "osmnx_obj = OSMNX('POLYGON2.shp')"
   ]
  },
  {
   "cell_type": "code",
   "execution_count": null,
   "id": "8a3d2504-2d8d-47e9-8cbb-8a6d3d03cabc",
   "metadata": {},
   "outputs": [],
   "source": [
    "origin = (55.727986,37.707327)\n",
    "destination = (55.811974,37.594830)\n",
    "shortest_route = osmnx_obj.search_shortest_path(origin, destination)\n",
    "fig, ax = ox.plot_graph_route(\n",
    "    road,\n",
    "    route,\n",
    "    route_color=\"c\",\n",
    "    node_size=0\n",
    ")"
   ]
  },
  {
   "cell_type": "code",
   "execution_count": null,
   "id": "3204e689-f120-46be-9688-1c9b0f69dc14",
   "metadata": {},
   "outputs": [],
   "source": [
    "polygon = gpd.read_file('POLYGON.shp')\n",
    "ox.config(log_console=True, use_cache=True)"
   ]
  },
  {
   "cell_type": "code",
   "execution_count": null,
   "id": "2310bc48-e42d-4d0c-8fc9-a22b6364b43b",
   "metadata": {},
   "outputs": [],
   "source": [
    "study_area = polygon[\"geometry\"].iloc[0]\n",
    "road = ox.graph_from_polygon(study_area, network_type=\"drive\")#, tags={'building':True})"
   ]
  },
  {
   "cell_type": "code",
   "execution_count": null,
   "id": "403fe1a7-84d2-42d3-bb76-014ac713e2dd",
   "metadata": {},
   "outputs": [],
   "source": [
    "def search_shortest_path(graph, latlng1, latlng2):\n",
    "    latlng1 = list(reversed(latlng1))\n",
    "    latlng2 = list(reversed(latlng2))\n",
    "    origin_node = ox.distance.nearest_nodes(\n",
    "        graph,\n",
    "        *latlng1\n",
    "    )\n",
    "    destination_node = ox.distance.nearest_nodes(\n",
    "        graph,\n",
    "        *latlng2\n",
    "    )\n",
    "    shortest_route = ox.shortest_path(\n",
    "        graph,\n",
    "        origin_node,\n",
    "        destination_node\n",
    "    )\n",
    "    return shortest_route"
   ]
  },
  {
   "cell_type": "code",
   "execution_count": null,
   "id": "02e9addb-20e7-4504-a49b-307656cb5b14",
   "metadata": {},
   "outputs": [],
   "source": [
    "# координаты запакованы в обратном порядке от яндекса\n",
    "origin = (55.727986,37.707327)\n",
    "destination = (55.811974,37.594830)\n",
    "shortest_route = search_shortest_path(road, origin, destination)\n",
    "fig, ax = ox.plot_graph_route(\n",
    "    road,\n",
    "    route,\n",
    "    route_color=\"c\",\n",
    "    node_size=0\n",
    ")"
   ]
  },
  {
   "cell_type": "code",
   "execution_count": null,
   "id": "1a41b5c8-583a-44cc-bcb8-a98016dcc286",
   "metadata": {},
   "outputs": [],
   "source": []
  },
  {
   "cell_type": "code",
   "execution_count": null,
   "id": "9cb47250-b7ef-4c25-a865-eac22fe83815",
   "metadata": {},
   "outputs": [],
   "source": [
    "\n",
    "draw_path(road, origin, destination)"
   ]
  },
  {
   "cell_type": "code",
   "execution_count": null,
   "id": "97ea34a0-9ef9-42c8-8696-a21d048ce2e1",
   "metadata": {},
   "outputs": [],
   "source": [
    "fig, ax = ox.plot_graph_route(road, route, route_color=\"c\", node_size=0)"
   ]
  },
  {
   "cell_type": "code",
   "execution_count": null,
   "id": "1a34d6f0-f118-4812-8de1-1cd904154323",
   "metadata": {},
   "outputs": [],
   "source": [
    "road[281435550]"
   ]
  },
  {
   "cell_type": "code",
   "execution_count": null,
   "id": "ad4c4db7-e02a-4bc5-af18-c55bbfd1f66a",
   "metadata": {},
   "outputs": [],
   "source": [
    "route"
   ]
  },
  {
   "cell_type": "code",
   "execution_count": null,
   "id": "8175891b-f8f3-4704-98b3-f9f4eb783b80",
   "metadata": {},
   "outputs": [],
   "source": []
  },
  {
   "cell_type": "code",
   "execution_count": null,
   "id": "ed490a31-52cd-4473-8fc9-02ad7e0c57a8",
   "metadata": {},
   "outputs": [],
   "source": []
  },
  {
   "cell_type": "code",
   "execution_count": null,
   "id": "03c82958-3e60-4f7f-8147-f7810c6fd8ec",
   "metadata": {},
   "outputs": [],
   "source": []
  },
  {
   "cell_type": "code",
   "execution_count": null,
   "id": "3d9bac8d-cf84-4698-a35c-43ee153f2b62",
   "metadata": {},
   "outputs": [],
   "source": []
  },
  {
   "cell_type": "code",
   "execution_count": null,
   "id": "614a4a0e-9c4b-4f23-a54e-8ff0a3d2b44e",
   "metadata": {},
   "outputs": [],
   "source": []
  },
  {
   "cell_type": "code",
   "execution_count": null,
   "id": "ba048546-8c38-4464-a4c4-e4dcdf41d11b",
   "metadata": {},
   "outputs": [],
   "source": [
    "# find the nearest node to the start location\n",
    "orig_node = ox.get_nearest_node(graph, start_latlng)\n",
    "\n",
    "# find the nearest node to the end location\n",
    "dest_node = ox.get_nearest_node(graph, end_latlng)\n",
    "\n",
    "# find the shortest path\n",
    "shortest_route = nx.shortest_path(graph, orig_node,dest_node,\n",
    "                                  weight=optimizer)"
   ]
  },
  {
   "cell_type": "code",
   "execution_count": null,
   "id": "ece4c0ab-0ab0-4354-8030-1db91106659b",
   "metadata": {},
   "outputs": [],
   "source": [
    "nearest_edge_ESB = ox.get_nearest_edge(G, (lat_ESB, lng_ESB))"
   ]
  },
  {
   "cell_type": "code",
   "execution_count": null,
   "id": "db9e10d7-0bc2-4f7e-b55d-d2a4b2e42f7f",
   "metadata": {},
   "outputs": [],
   "source": [
    "route = nx.shortest_path(G, nearest_edge_ESB[0], nearest_edges[0][0])\n",
    "fig, ax = ox.plot_graph_route(G, route, figsize=(5,5))"
   ]
  },
  {
   "cell_type": "code",
   "execution_count": null,
   "id": "bac778d2-27fe-4f8a-8660-0a0060e2d5d6",
   "metadata": {},
   "outputs": [],
   "source": [
    "ox.plot_graph(road)"
   ]
  },
  {
   "cell_type": "code",
   "execution_count": null,
   "id": "7e06755c-966c-473d-aba6-4db3d0aac16d",
   "metadata": {},
   "outputs": [],
   "source": []
  }
 ],
 "metadata": {
  "kernelspec": {
   "display_name": "Python 3 (ipykernel)",
   "language": "python",
   "name": "python3"
  },
  "language_info": {
   "codemirror_mode": {
    "name": "ipython",
    "version": 3
   },
   "file_extension": ".py",
   "mimetype": "text/x-python",
   "name": "python",
   "nbconvert_exporter": "python",
   "pygments_lexer": "ipython3",
   "version": "3.10.12"
  }
 },
 "nbformat": 4,
 "nbformat_minor": 5
}
