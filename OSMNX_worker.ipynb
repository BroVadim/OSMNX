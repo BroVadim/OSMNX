{
 "cells": [
  {
   "cell_type": "code",
   "execution_count": 2,
   "id": "6fd35f37-49ec-4cac-b82b-683a16601f0d",
   "metadata": {},
   "outputs": [],
   "source": [
    "import matplotlib\n",
    "import osmnx as ox\n",
    "import geopandas as gpd\n",
    "import traceback\n",
    "import os.path\n",
    "from typing import Tuple\n",
    "import warnings\n",
    "from tqdm import tqdm\n",
    "import pandas as pd\n",
    "warnings.filterwarnings(\"ignore\")"
   ]
  },
  {
   "cell_type": "markdown",
   "id": "2f4bc2c1-41a8-44d4-a344-fdd4975774d0",
   "metadata": {},
   "source": [
    "# osmnx.graph.graph_from_polygon #\n",
    "osmnx.graph.graph_from_polygon( </br>\n",
    "&nbsp; &nbsp; &nbsp;polygon, </br>\n",
    "&nbsp; &nbsp; &nbsp;network_type='all', </br>\n",
    "&nbsp; &nbsp; &nbsp;simplify=True, </br>\n",
    "&nbsp; &nbsp; &nbsp;retain_all=False, </br>\n",
    "&nbsp; &nbsp; &nbsp;truncate_by_edge=False, </br>\n",
    "&nbsp; &nbsp; &nbsp;clean_periphery=None, </br>\n",
    "&nbsp; &nbsp; &nbsp;custom_filter=None </br>\n",
    ")</br>\n",
    "Загружает и создает граф в границах полигона или мультиполигона.\n",
    "| Параметр | Тип данных параметра | Описание параметра |\n",
    "|-|--------|---|\n",
    "|polygon|shapely.geometry.Polygon или shapely.geometry.MultiPolygon|Форма, в которой будут храниться сетевые данные. Координаты в формате широта,долгота в проекции EPSG:4326|\n",
    "|network_type|string {\"all\", \"all_public\", \"bike\", \"drive\", \"drive_service\", \"walk\"}|Тип получаемой уличной, если значение custom_filter равно None|\n",
    "|simplify|bool|Если True, упрощает топологию графа с помощью функции simplify_graph|\n",
    "|retain_all|bool|Если True, вернет весь график, даже если он не связан. в противном случае сохранит только самый большой слабосвязный компонент.|\n",
    "|truncate_by_edge|bool|Если True, узлы сохраняются за пределами граничного полигона, если хотя бы один из соседних узлов находится внутри полигона|\n",
    "|custom_filter|string|Пользовательский фильтр ways, который будет использоваться вместо настроек network_type, например, также укажите network_type, который находится в settings.bidirectional_network_types, если вы хотите, чтобы график был полностью двунаправленным.|\n",
    "##### ВОЗВРАЩАЕМОЕ ЗНАЧЕНИЕ:\n",
    "* G - networkx.MultiDiGraph\n",
    "\n",
    "# osmnx.convert.graph_from_gdfs #\n",
    "osmnx.convert.graph_from_gdfs(</br>\n",
    "&nbsp; &nbsp; &nbsp;gdf_nodes,</br>\n",
    "&nbsp; &nbsp; &nbsp;gdf_edges,</br>\n",
    "&nbsp; &nbsp; &nbsp;graph_attrs=None</br>\n",
    ")</br>\n",
    "Преобразовывает узловые и граничные фреймы геоданных в мультиграфы.\n",
    "Эта функция является обратной по отношению к graph_to_gdfs и предназначена для совместной работы с ней.\n",
    "Вы можете преобразовать произвольные фреймы геоданных с узлами и ребрами, если: 1) gdf_nodes уникально индексируется с помощью osmid, 2) gdf_nodes содержит столбцы координат x и y, представляющие геометрию узлов, 3) gdf_edges уникально мультииндексируется с помощью u, v, key (в соответствии с обычной структурой мультиграфа). Это позволяет загружать любые шейп-файлы узлов/ребер или слои геопакета в качестве фреймов геоданных, а затем преобразовывать их в мультиграфы для графического анализа. Обратите внимание, что любой атрибут геометрии в gdf_nodes не используется, поскольку вместо него x и y предоставляют необходимую информацию о геометрии узлов.\n",
    "| Параметр | Тип данных параметра | Описание параметра |\n",
    "|-|--------|---|\n",
    "|gdf_nodes|geopandas.GeoDataFrame|Структура геоданных из узлов графа, уникально проиндексированных osmid|\n",
    "|gdf_edges|geopandas.GeoDataFrame|Структура геоданных из ребер графа, уникально проиндексированных по u, v, key|\n",
    "|graph_attrs|dict|новый атрибут G.graph, если его нет, используйте crs из gdf_edges в качестве единственного атрибута уровня графика (для gdf_edges должен быть установлен атрибут crs)|\n",
    "##### ВОЗВРАЩАЕМОЕ ЗНАЧЕНИЕ\n",
    "* G - networkx.MultiDiGraph\n",
    "\n",
    "# osmnx.routing.route_to_gdf #\n",
    "osmnx.routing.route_to_gdf(</br>\n",
    "&nbsp;&nbsp;&nbsp;G,</br>\n",
    "&nbsp;&nbsp;&nbsp;route,</br>\n",
    "&nbsp;&nbsp;&nbsp;weight='length'</br>\n",
    ")</br>\n",
    "Возвращает Геодатафрейм ребер контура по порядку\n",
    "| Параметр | Тип данных параметра | Описание параметра |\n",
    "|-|--------|---|\n",
    "|G|networkx.MultiDiGraph|Входной граф|\n",
    "|route|list|список идентификаторов узлов, составляющих путь|\n",
    "|weight|string|если между двумя узлами имеются параллельные ребра, выбирает наименьший вес|\n",
    "##### ВОЗВРАЩАЕМОЕ ЗНАЧЕНИЕ\n",
    "* gdf_edges (geopandas.GeoDataFrame) – Геодатафрейм ребер\n",
    "\n",
    "# osmnx.distance.nearest_nodes #\n",
    "osmnx.distance.nearest_nodes(</br>\n",
    "&nbsp;&nbsp;&nbsp;G, </br>\n",
    "&nbsp;&nbsp;&nbsp;X, </br>\n",
    "&nbsp;&nbsp;&nbsp;Y, </br>\n",
    "&nbsp;&nbsp;&nbsp;return_dist=False </br>\n",
    ") </br>\n",
    "Ищет ближайший узел к точку или к каждой из нескольких точек\n",
    "Если X и Y являются единичными значениями координат, то будет возвращен ближайший узел к этой точке. Если X и Y являются списками значений координат, то будет возвращен ближайший узел к каждой точке.\n",
    "Если граф проецируется, то для евклидова поиска ближайшего соседа используется дерево k-d, для чего требуется, чтобы scipy был установлен в качестве необязательной зависимости. Если он не запроектирован, то для поиска ближайшего соседа в haversine используется шаровое дерево, для чего требуется, чтобы scikit-learn был установлен в качестве необязательной зависимости.\n",
    "| Параметр | Тип данных параметра | Описание параметра |\n",
    "|-|--------|---|\n",
    "|G|networkx.MultiDiGraph|График, на котором можно найти ближайшие узлы|\n",
    "|X|float или list|Координаты точек по x (долготе), выраженные в тех же единицах измерения, что и на графике, и не содержащие нулей|\n",
    "|Y|float или list|Координаты точек по y (широте), выраженные в тех же единицах измерения, что и на графике, и не содержащие нулей|\n",
    "|return_dist|bool|Необязательный параметр, указывает возвращать или нет расстояние между точками и ближайшими узлами|\n",
    "##### ВОЗВРАЩАЕМОЕ ЗНАЧЕНИЕ:\n",
    "* **nn** или **(nn, dist)** (int/list or tuple) – идентификаторы ближайших узлов или, необязательно, кортеж, где dist содержит расстояния между точками и их ближайшими узлами\n",
    "\n",
    "# osmnx.distance.shortest_path #\n",
    "osmnx.distance.shortest_path( </br>\n",
    "&nbsp;&nbsp;&nbsp;G,</br>\n",
    "&nbsp;&nbsp;&nbsp;orig,</br>\n",
    "&nbsp;&nbsp;&nbsp;dest,</br>\n",
    "&nbsp;&nbsp;&nbsp;weight='length',</br>\n",
    "&nbsp;&nbsp;&nbsp;cpus=1 </br>\n",
    "**)**</br>\n",
    "Расчитывает кратчайшее расстояние между точками\n",
    "| Параметр | Тип данных параметра | Описание параметра |\n",
    "|-|--------|---|\n",
    "|G|networkx.MultiDiGraph|Входной граф|\n",
    "|orig|int или list|Идентификатор исходного узла или список идентификаторов исходного узла|\n",
    "|dest|int или list|Идентификатор узла назначения или список идентификаторов узлов назначения|\n",
    "|weight|string|Атрибут ребра, который необходимо минимизировать при решении задачи поиска кратчайшего пути|\n",
    "|cpus|int|Количество используемых ядер CPU если равно None - использует все доступные|\n",
    "##### ВОЗВРАЩАЕМОЕ ЗНАЧЕНИЕ:\n",
    "* **path** (list)– список идентификаторов узлов, составляющих кратчайший путь, или, если orig и dest являются списками, то список списков путей\n",
    "\n",
    "# osmnx.plot.plot_graph #\n",
    "osmnx.plot.plot_graph(</br>\n",
    "&nbsp;&nbsp;&nbsp;G,</br>\n",
    "&nbsp;&nbsp;&nbsp;ax=None,</br>\n",
    "&nbsp;&nbsp;&nbsp;figsize=(8, 8),</br>\n",
    "&nbsp;&nbsp;&nbsp;bgcolor='#111111',</br>\n",
    "&nbsp;&nbsp;&nbsp;node_color='w',</br>\n",
    "&nbsp;&nbsp;&nbsp;node_size=15,</br>\n",
    "&nbsp;&nbsp;&nbsp;node_alpha=None,</br>\n",
    "&nbsp;&nbsp;&nbsp;node_edgecolor='none',</br>\n",
    "&nbsp;&nbsp;&nbsp;node_zorder=1,</br>\n",
    "&nbsp;&nbsp;&nbsp;edge_color='#999999',</br>\n",
    "&nbsp;&nbsp;&nbsp;edge_linewidth=1,</br>\n",
    "&nbsp;&nbsp;&nbsp;edge_alpha=None,</br>\n",
    "&nbsp;&nbsp;&nbsp;show=True,</br>\n",
    "&nbsp;&nbsp;&nbsp;close=False,</br>\n",
    "&nbsp;&nbsp;&nbsp;save=False,</br>\n",
    "&nbsp;&nbsp;&nbsp;filepath=None,</br>\n",
    "&nbsp;&nbsp;&nbsp;dpi=300,</br>\n",
    "&nbsp;&nbsp;&nbsp;bbox=None</br>\n",
    ")\n",
    "Рисует граф\n",
    "| Параметр | Тип данных параметра | Описание параметра |\n",
    "|-|--------|---|\n",
    "|G|networkx.MultiDiGraph|Принимаемый граф|\n",
    "|ax|matplotlib axis|Если не None, построение графика по этой ранее существовавшей оси|\n",
    "|figsize|tuple|Если ax-None, создайте новую фигуру с заданным размером (ширина, высота)|\n",
    "|bgcolor|string|Цвет фона графика|\n",
    "|node_color|string или list|Цвет(а) узл(а/ов)|\n",
    "|node_size|int|Размер узлов: если 0 - пропускает построение графиков узлов|\n",
    "|node_alpha|float|Непрозрачность узлов, обратите внимание: если вы передали значения RGBA в node_color, установите node_alpha=None, чтобы использовать альфа-канал в node_color|\n",
    "|node_edgecolor|string|Цвет границ маркеров узлов|\n",
    "|node_zorder|int|Порядок построения узлов: ребра всегда равны 1, поэтому установите node_zorder=0 для построения узлов под ребрами|\n",
    "|edge_color|string или list|Цвет(а) линий ребер|\n",
    "|edge_linewidth|float|Ширина линий ребер: если 0, то пропустите построение рёбер|\n",
    "|edge_alpha|float|Непрозрачность краев. Примечание: если вы передали значения RGBA в edge_color, установите edge_alpha=None, чтобы использовать альфа-канал в edge_color|\n",
    "|show|bool|Если True, вызывает pyplot.show() для демонстрации фигуры|\n",
    "|close|bool|Если True, вызывает pyplot.close() для закрытия фигуры|\n",
    "|save|bool|Если True, сохраняет фигуру на диск по пути|\n",
    "|filepath|string|Если save=True, путь к файлу. Формат файла определяется по расширению. если нет, используйте settings.imgs_folder/image.png|\n",
    "|dpi|int|Если save=True, содержит разрешение сохраняемого файла|\n",
    "|bbox|tuple|Ограничивающий прямоугольник в виде (север,юг,восток,запад).Если нет, то вычисление будет производиться по пространственным протяженностям построенных геометрий.|\n",
    "##### ВОЗВРАЩАЕМОЕ ЗНАЧЕНИЕ:\n",
    "**fig**, **ax** tuple – matplotlib figure, axis\n",
    "\n",
    "# osmnx.plot.plot_graph_route\n",
    "osmnx.plot.plot_graph_route(</br>\n",
    "&nbsp;&nbsp;&nbsp;G,</br>\n",
    "&nbsp;&nbsp;&nbsp;route,</br>\n",
    "&nbsp;&nbsp;&nbsp;route_color='r',</br>\n",
    "&nbsp;&nbsp;&nbsp;route_linewidth=4,</br>\n",
    "&nbsp;&nbsp;&nbsp;route_alpha=0.5,</br>\n",
    "&nbsp;&nbsp;&nbsp;orig_dest_size=100,</br>\n",
    "&nbsp;&nbsp;&nbsp;ax=None, **pg_kwargs</br>\n",
    "**)**</br>\n",
    "Визуализация маршрута на графе\n",
    "| Параметр | Тип данных параметра | Описание параметра |\n",
    "|-|--------|---|\n",
    "|G|networkx.MultiDiGraph|Принимаемый граф|\n",
    "|route|list|Маршрут как список ID узлов|\n",
    "|route_color|string|Цвет маршрута|\n",
    "|route_linewidth|int|Ширина линии маршрута|\n",
    "|route_alpha|float|Непрозрачность линии маршрута|\n",
    "|orig_dest_size|int|Размер исходного и конечного узлов|\n",
    "|ax|matplotlib axis|Если не None, проложите маршрут по этой ранее существовавшей оси, вместо того чтобы создавать новую фигуру, ось и рисовать базовый график|\n",
    "|pg_kwargs||Аргументы ключевого слова для передачи в plot_graph|\n",
    "##### ВОЗВРАЩАЕМОЕ ЗНАЧЕНИЕ:\n",
    "**fig**, **ax** (tuple) – matplotlib figure, axis\n",
    "\n",
    "# osmnx.plot.plot_graph_routes #\n",
    "osmnx.plot.plot_graph_routes( </br>\n",
    "&nbsp;&nbsp;&nbsp;G,</br>\n",
    "&nbsp;&nbsp;&nbsp;routes,</br>\n",
    "&nbsp;&nbsp;&nbsp;route_colors='r',</br>\n",
    "&nbsp;&nbsp;&nbsp;route_linewidths=4,</br>\n",
    "&nbsp;&nbsp;&nbsp;**pgr_kwargs</br>\n",
    ")</br>\n",
    "Рисует нисколько маршрутов на графе\n",
    "| Параметр | Тип данных параметра | Описание параметра |\n",
    "|-|--------|---|\n",
    "|G|networkx.MultiDiGraph|Входной граф|\n",
    "|routes|list|Маршруты в виде списка списков идентификаторов узлов|\n",
    "|route_colors|string or list|Если строка, то 1 цвет для всех маршрутов. если список, то цвета для каждого маршрута|\n",
    "|route_linewidths|int или list|Если int, то ширина строки равна 1 для всех маршрутов. если list, то ширина строки для каждого маршрута.|\n",
    "|pgr_kwargs||Аргументы ключевого слова для передачи в plot_graph_route|\n",
    "##### ВОЗВРАЩАЕМОЕ ЗНАЧЕНИЕ:\n",
    "**fig**, **ax** (tuple) – matplotlib figure, axis\n"
   ]
  },
  {
   "cell_type": "code",
   "execution_count": 5,
   "id": "b3a4a494-702e-41df-bb8f-b150d9a63707",
   "metadata": {},
   "outputs": [],
   "source": [
    "class OSMNX:\n",
    "\n",
    "    \"\"\"\n",
    "    Функция для подгрузки данных о графе при подключении к сети интернет.\n",
    "    На вход идет shp-файл c сайта geojson.io.\n",
    "    \"\"\"\n",
    "    def read_online_osmnx(self, polygon_path:str):\n",
    "        try:\n",
    "            if os.path.exists(polygon_path):\n",
    "                polygon = gpd.read_file(polygon_path)\n",
    "                ox.settings.log_console = True\n",
    "                ox.settings.use_cache = True\n",
    "                area = polygon[\"geometry\"].iloc[0]\n",
    "                graph = ox.graph_from_polygon(area, network_type = \"drive\")\n",
    "                return graph\n",
    "            else:\n",
    "                raise FileNotFoundError\n",
    "        except:\n",
    "            print(traceback.format_exc())\n",
    "\n",
    "    \"\"\"\n",
    "    Для использования уже выгруженных shp-файлов.\n",
    "    Рядом с shp-файлами должны лежать файлы dbf.\n",
    "    \"\"\"\n",
    "    def read_offline_osmnx(\n",
    "        self,\n",
    "        nodes_path:str,\n",
    "        edges_path:str\n",
    "    ):\n",
    "        try:\n",
    "            exist_files_bool = os.path.exists(nodes_path) & os.path.exists(edges_path)\n",
    "            if exist_files_bool:\n",
    "                try:\n",
    "                    \"\"\"\n",
    "                    Считываем файлы, преобразовываем их чтобы конвертировать в граф:\n",
    "                     - в файле с nodes - поле osmid устанавливается как индекс\n",
    "                     - в файле с edges - поля u,v,key устанавливаются как индексы\n",
    "                    \"\"\"\n",
    "                    nodes = gpd.read_file(nodes_path).reset_index()\n",
    "                    nodes = nodes.set_index('osmid')\n",
    "                    edges = gpd.read_file(edges_path).reset_index()\n",
    "                    edges = edges.set_index(['u','v','key'])\n",
    "                    graph_attrs = {\"crs\": \"EPSG:4326\"}\n",
    "                    graph = ox.convert.graph_from_gdfs(\n",
    "                        nodes,\n",
    "                        edges,\n",
    "                        graph_attrs = graph_attrs\n",
    "                    )\n",
    "                    return graph\n",
    "                except:\n",
    "                    raise OsmnxError\n",
    "            else:\n",
    "                raise FileNotFoundError\n",
    "        except:\n",
    "            error = traceback.format_exc()\n",
    "            print(error)\n",
    "\n",
    "    \"\"\"\n",
    "    Поиск кратчайшего маршрута между точками.\n",
    "    На вход передается: \n",
    "    - граф\n",
    "    - параметр по которому необходимо проводить оптимизацию (length/time)\n",
    "    - координаты точек, между которыми необходимо рассчитать оптимальный маршрут\n",
    "    \"\"\"\n",
    "    def search_shortest_route(\n",
    "        self,\n",
    "        graph,\n",
    "        weight_param,\n",
    "        latlng1: Tuple[float,float],\n",
    "        latlng2: Tuple[float,float]\n",
    "    ):\n",
    "        try:\n",
    "            latlng1 = list(reversed(latlng1))\n",
    "            latlng2 = list(reversed(latlng2))\n",
    "            start_point_node = ox.distance.nearest_nodes(\n",
    "                graph,\n",
    "                *latlng1\n",
    "            )\n",
    "            finish_point_node = ox.distance.nearest_nodes(\n",
    "                graph,\n",
    "                *latlng2\n",
    "            )\n",
    "            shortest_route = ox.distance.shortest_path(\n",
    "                graph,\n",
    "                start_point_node,\n",
    "                finish_point_node,\n",
    "                weight=weight_param\n",
    "            )\n",
    "            return shortest_route\n",
    "        except:\n",
    "            print(f'Произошла ошибка {traceback.format_exc()}')\n",
    "\n",
    "    \"\"\"\n",
    "    Функция для расчета расстояния построенных маршрутов.\n",
    "    \"\"\"\n",
    "    def search_route_length(self, graph, route):\n",
    "        try:\n",
    "            gdf = ox.utils_graph.route_to_gdf(graph, route)\n",
    "            total_length = gdf[\"length\"].sum()\n",
    "            return total_length\n",
    "        except:\n",
    "            print(traceback.format_exc())\n",
    "\n",
    "    \"\"\"\n",
    "    Функция для визуализации графа.\n",
    "    \"\"\"\n",
    "    def draw_graph(self, graph):\n",
    "        ox.plot_graph(graph)\n",
    "\n",
    "    \"\"\"\n",
    "    Функция для визуализации графа и маршрута на нем.\n",
    "    \"\"\"\n",
    "    def draw_shortest_route(self, graph, route):\n",
    "        try:\n",
    "            fig, ax = ox.plot_graph_route(\n",
    "                graph,\n",
    "                route,\n",
    "                route_color = \"c\",\n",
    "                node_size = 0\n",
    "            )\n",
    "        except:\n",
    "            print(f'Произошла ошибка {traceback.format_exc()}')\n",
    "\n",
    "    \"\"\"\n",
    "    Функция для сохранения графа.\n",
    "    \"\"\"\n",
    "    def save_graph(self, graph):\n",
    "        nodes = ox.convert.graph_to_gdfs(\n",
    "            graph,\n",
    "            nodes = True,\n",
    "            edges = False,\n",
    "            node_geometry = True,\n",
    "            fill_edge_geometry = True\n",
    "        )\n",
    "        edges = ox.convert.graph_to_gdfs(\n",
    "            graph,\n",
    "            nodes= False,\n",
    "            edges = True,\n",
    "            node_geometry = True,\n",
    "            fill_edge_geometry = True\n",
    "        )\n",
    "        nodes.to_file('nodes.shp')\n",
    "        edges.to_file('edges.shp')"
   ]
  },
  {
   "cell_type": "code",
   "execution_count": 6,
   "id": "9097047c-5bfe-4846-9b20-296bce2e59eb",
   "metadata": {},
   "outputs": [],
   "source": [
    "osmnx = OSMNX()\n",
    "# graph = osmnx.read_online_osmnx('POLYGON.shp')\n",
    "# osmnx.draw_graph(graph)"
   ]
  },
  {
   "cell_type": "code",
   "execution_count": null,
   "id": "f67f5853-50d6-491e-8b3b-6289adab6e13",
   "metadata": {},
   "outputs": [],
   "source": [
    "osmnx.save_graph(graph)"
   ]
  },
  {
   "cell_type": "code",
   "execution_count": null,
   "id": "549d8223-1c54-4a22-9f35-f9d3d9fbba4d",
   "metadata": {},
   "outputs": [],
   "source": [
    "searched_files = [file for file in os.listdir() if '+' in file]"
   ]
  },
  {
   "cell_type": "code",
   "execution_count": null,
   "id": "0c10bce4-4b50-4658-a0bc-ae61fcfc4036",
   "metadata": {},
   "outputs": [],
   "source": [
    "res_nodes = gpd.read_file(f'{searched_files[0]}/nodes.shp')\n",
    "res_edges = gpd.read_file(f'{searched_files[0]}/edges.shp')\n",
    "\n",
    "for searched_file in tqdm(searched_files[1:]):\n",
    "    new_nodes = gpd.read_file(f'{searched_file}/nodes.shp')\n",
    "    res_nodes = pd.concat([res_nodes, new_nodes])\n",
    "\n",
    "    new_edges = gpd.read_file(f'{searched_file}/edges.shp')\n",
    "    res_edges = pd.concat([res_edges, new_edges])"
   ]
  },
  {
   "cell_type": "code",
   "execution_count": null,
   "id": "66b88c5e-66f4-432a-958f-a3d01cd2bf1e",
   "metadata": {},
   "outputs": [],
   "source": [
    "res_nodes.to_file('full_nodes.shp')"
   ]
  },
  {
   "cell_type": "code",
   "execution_count": null,
   "id": "4a6a6bb0-d78e-454f-8809-ee6803a1c139",
   "metadata": {},
   "outputs": [],
   "source": [
    "res_edges.to_file('full_edges.shp')"
   ]
  },
  {
   "cell_type": "code",
   "execution_count": null,
   "id": "25503fe0-c52e-4984-b380-0ea8d6b2a361",
   "metadata": {},
   "outputs": [],
   "source": []
  },
  {
   "cell_type": "code",
   "execution_count": 18,
   "id": "4910c63a-ab70-4b72-96ac-52a4396f98b1",
   "metadata": {},
   "outputs": [],
   "source": [
    "Piter_nodes = gpd.read_file('Санкт-Петербург+/nodes.shp')\n",
    "Piter_edges = gpd.read_file('Санкт-Петербург+/edges.shp')"
   ]
  },
  {
   "cell_type": "code",
   "execution_count": 21,
   "id": "14cac682-15b7-431b-9913-acbfcfea0b71",
   "metadata": {},
   "outputs": [
    {
     "data": {
      "text/plain": [
       "(34850, 7)"
      ]
     },
     "execution_count": 21,
     "metadata": {},
     "output_type": "execute_result"
    }
   ],
   "source": [
    "Piter_nodes.shape"
   ]
  },
  {
   "cell_type": "code",
   "execution_count": 20,
   "id": "a11a6e62-fc07-424d-b236-2846a43c06db",
   "metadata": {},
   "outputs": [],
   "source": [
    "Moscow_edges_p1 = Moscow_edges[:40000]\n",
    "Moscow_edges_p2 = Moscow_edges[40000:]"
   ]
  },
  {
   "cell_type": "code",
   "execution_count": 22,
   "id": "a51f2960-f83b-4f6a-8104-53a704c0ec29",
   "metadata": {},
   "outputs": [],
   "source": [
    "Moscow_nodes_p1 = Moscow_nodes[:17000]\n",
    "Moscow_nodes_p2 = Moscow_nodes[17000:]"
   ]
  },
  {
   "cell_type": "code",
   "execution_count": 23,
   "id": "32c0d350-0998-425d-8380-7a24661730bf",
   "metadata": {},
   "outputs": [],
   "source": [
    "Moscow_edges_p1.to_file('piter_p1_edges.shp')\n",
    "Moscow_edges_p2.to_file('piter_p2_edges.shp')"
   ]
  },
  {
   "cell_type": "code",
   "execution_count": 24,
   "id": "0e634ecf-f4e2-41dd-b369-185120a0dcb1",
   "metadata": {},
   "outputs": [],
   "source": [
    "Moscow_nodes_p1.to_file('piter_p1_nodes.shp')\n",
    "Moscow_nodes_p2.to_file('piter_p2_nodes.shp')"
   ]
  },
  {
   "cell_type": "code",
   "execution_count": null,
   "id": "0f144d86-caff-4ff6-a623-10b881cf5f3c",
   "metadata": {},
   "outputs": [],
   "source": []
  },
  {
   "cell_type": "code",
   "execution_count": null,
   "id": "db3217f6-90c5-4a8c-82a2-c28cb62956d5",
   "metadata": {},
   "outputs": [],
   "source": []
  },
  {
   "cell_type": "code",
   "execution_count": null,
   "id": "bab5fa91-db75-4d43-9205-9ea32a6d5a5c",
   "metadata": {},
   "outputs": [],
   "source": []
  },
  {
   "cell_type": "code",
   "execution_count": null,
   "id": "ffe1a697-ae00-42f5-8d3d-e5bcf60c8a5b",
   "metadata": {},
   "outputs": [],
   "source": []
  },
  {
   "cell_type": "code",
   "execution_count": null,
   "id": "a3d496f7-1612-4c5a-a69a-474032f92f91",
   "metadata": {},
   "outputs": [],
   "source": []
  },
  {
   "cell_type": "code",
   "execution_count": 3,
   "id": "7caaf94f-3b8a-44cb-aadd-cc462e32f8be",
   "metadata": {},
   "outputs": [],
   "source": [
    "full_nodes = gpd.read_file('full_nodes.shp')\n",
    "full_edges = gpd.read_file('full_edges.shp')"
   ]
  },
  {
   "cell_type": "code",
   "execution_count": 4,
   "id": "d9069aeb-5c37-4c60-b6bb-cb44538e8ebf",
   "metadata": {},
   "outputs": [],
   "source": [
    "full_nodes = full_nodes.reset_index()\n",
    "full_nodes = full_nodes.set_index('osmid')\n",
    "                    \n",
    "full_edges = full_edges.reset_index()\n",
    "full_edges = full_edges.set_index(['u','v','key'])\n",
    "\n",
    "graph_attrs = {\"crs\": \"EPSG:4326\"}\n",
    "graph = ox.convert.graph_from_gdfs(\n",
    "    full_nodes,\n",
    "    full_edges,\n",
    "    graph_attrs = graph_attrs\n",
    ")"
   ]
  },
  {
   "cell_type": "code",
   "execution_count": 7,
   "id": "4a6bc878-3102-452f-944b-7ff617efd179",
   "metadata": {},
   "outputs": [
    {
     "ename": "ValueError",
     "evalue": "setting an array element with a sequence.",
     "output_type": "error",
     "traceback": [
      "\u001b[0;31m---------------------------------------------------------------------------\u001b[0m",
      "\u001b[0;31mTypeError\u001b[0m                                 Traceback (most recent call last)",
      "File \u001b[0;32m~/.local/lib/python3.10/site-packages/pandas/core/series.py:248\u001b[0m, in \u001b[0;36m_coerce_method.<locals>.wrapper\u001b[0;34m(self)\u001b[0m\n\u001b[1;32m    247\u001b[0m     \u001b[38;5;28;01mreturn\u001b[39;00m converter(\u001b[38;5;28mself\u001b[39m\u001b[38;5;241m.\u001b[39miloc[\u001b[38;5;241m0\u001b[39m])\n\u001b[0;32m--> 248\u001b[0m \u001b[38;5;28;01mraise\u001b[39;00m \u001b[38;5;167;01mTypeError\u001b[39;00m(\u001b[38;5;124mf\u001b[39m\u001b[38;5;124m\"\u001b[39m\u001b[38;5;124mcannot convert the series to \u001b[39m\u001b[38;5;132;01m{\u001b[39;00mconverter\u001b[38;5;132;01m}\u001b[39;00m\u001b[38;5;124m\"\u001b[39m)\n",
      "\u001b[0;31mTypeError\u001b[0m: cannot convert the series to <class 'float'>",
      "\nThe above exception was the direct cause of the following exception:\n",
      "\u001b[0;31mValueError\u001b[0m                                Traceback (most recent call last)",
      "Cell \u001b[0;32mIn[7], line 1\u001b[0m\n\u001b[0;32m----> 1\u001b[0m \u001b[43mosmnx\u001b[49m\u001b[38;5;241;43m.\u001b[39;49m\u001b[43mdraw_graph\u001b[49m\u001b[43m(\u001b[49m\u001b[43mgraph\u001b[49m\u001b[43m)\u001b[49m\n",
      "Cell \u001b[0;32mIn[5], line 108\u001b[0m, in \u001b[0;36mOSMNX.draw_graph\u001b[0;34m(self, graph)\u001b[0m\n\u001b[1;32m    107\u001b[0m \u001b[38;5;28;01mdef\u001b[39;00m \u001b[38;5;21mdraw_graph\u001b[39m(\u001b[38;5;28mself\u001b[39m, graph):\n\u001b[0;32m--> 108\u001b[0m     \u001b[43mox\u001b[49m\u001b[38;5;241;43m.\u001b[39;49m\u001b[43mplot_graph\u001b[49m\u001b[43m(\u001b[49m\u001b[43mgraph\u001b[49m\u001b[43m)\u001b[49m\n",
      "File \u001b[0;32m~/.local/lib/python3.10/site-packages/osmnx/plot.py:248\u001b[0m, in \u001b[0;36mplot_graph\u001b[0;34m(G, ax, figsize, bgcolor, node_color, node_size, node_alpha, node_edgecolor, node_zorder, edge_color, edge_linewidth, edge_alpha, show, close, save, filepath, dpi, bbox)\u001b[0m\n\u001b[1;32m    245\u001b[0m \u001b[38;5;28;01mif\u001b[39;00m max_node_size \u001b[38;5;241m>\u001b[39m \u001b[38;5;241m0\u001b[39m:\n\u001b[1;32m    246\u001b[0m     \u001b[38;5;66;03m# scatter plot the nodes' x/y coordinates\u001b[39;00m\n\u001b[1;32m    247\u001b[0m     gdf_nodes \u001b[38;5;241m=\u001b[39m convert\u001b[38;5;241m.\u001b[39mgraph_to_gdfs(G, edges\u001b[38;5;241m=\u001b[39m\u001b[38;5;28;01mFalse\u001b[39;00m, node_geometry\u001b[38;5;241m=\u001b[39m\u001b[38;5;28;01mFalse\u001b[39;00m)[[\u001b[38;5;124m\"\u001b[39m\u001b[38;5;124mx\u001b[39m\u001b[38;5;124m\"\u001b[39m, \u001b[38;5;124m\"\u001b[39m\u001b[38;5;124my\u001b[39m\u001b[38;5;124m\"\u001b[39m]]\n\u001b[0;32m--> 248\u001b[0m     \u001b[43max\u001b[49m\u001b[38;5;241;43m.\u001b[39;49m\u001b[43mscatter\u001b[49m\u001b[43m(\u001b[49m\n\u001b[1;32m    249\u001b[0m \u001b[43m        \u001b[49m\u001b[43mx\u001b[49m\u001b[38;5;241;43m=\u001b[39;49m\u001b[43mgdf_nodes\u001b[49m\u001b[43m[\u001b[49m\u001b[38;5;124;43m\"\u001b[39;49m\u001b[38;5;124;43mx\u001b[39;49m\u001b[38;5;124;43m\"\u001b[39;49m\u001b[43m]\u001b[49m\u001b[43m,\u001b[49m\n\u001b[1;32m    250\u001b[0m \u001b[43m        \u001b[49m\u001b[43my\u001b[49m\u001b[38;5;241;43m=\u001b[39;49m\u001b[43mgdf_nodes\u001b[49m\u001b[43m[\u001b[49m\u001b[38;5;124;43m\"\u001b[39;49m\u001b[38;5;124;43my\u001b[39;49m\u001b[38;5;124;43m\"\u001b[39;49m\u001b[43m]\u001b[49m\u001b[43m,\u001b[49m\n\u001b[1;32m    251\u001b[0m \u001b[43m        \u001b[49m\u001b[43ms\u001b[49m\u001b[38;5;241;43m=\u001b[39;49m\u001b[43mnode_size\u001b[49m\u001b[43m,\u001b[49m\n\u001b[1;32m    252\u001b[0m \u001b[43m        \u001b[49m\u001b[43mc\u001b[49m\u001b[38;5;241;43m=\u001b[39;49m\u001b[43mnode_color\u001b[49m\u001b[43m,\u001b[49m\n\u001b[1;32m    253\u001b[0m \u001b[43m        \u001b[49m\u001b[43malpha\u001b[49m\u001b[38;5;241;43m=\u001b[39;49m\u001b[43mnode_alpha\u001b[49m\u001b[43m,\u001b[49m\n\u001b[1;32m    254\u001b[0m \u001b[43m        \u001b[49m\u001b[43medgecolor\u001b[49m\u001b[38;5;241;43m=\u001b[39;49m\u001b[43mnode_edgecolor\u001b[49m\u001b[43m,\u001b[49m\n\u001b[1;32m    255\u001b[0m \u001b[43m        \u001b[49m\u001b[43mzorder\u001b[49m\u001b[38;5;241;43m=\u001b[39;49m\u001b[43mnode_zorder\u001b[49m\u001b[43m,\u001b[49m\n\u001b[1;32m    256\u001b[0m \u001b[43m    \u001b[49m\u001b[43m)\u001b[49m\n\u001b[1;32m    258\u001b[0m \u001b[38;5;66;03m# get spatial extents from bbox parameter or the edges' geometries\u001b[39;00m\n\u001b[1;32m    259\u001b[0m padding \u001b[38;5;241m=\u001b[39m \u001b[38;5;241m0\u001b[39m\n",
      "File \u001b[0;32m~/.local/lib/python3.10/site-packages/matplotlib/__init__.py:1473\u001b[0m, in \u001b[0;36m_preprocess_data.<locals>.inner\u001b[0;34m(ax, data, *args, **kwargs)\u001b[0m\n\u001b[1;32m   1470\u001b[0m \u001b[38;5;129m@functools\u001b[39m\u001b[38;5;241m.\u001b[39mwraps(func)\n\u001b[1;32m   1471\u001b[0m \u001b[38;5;28;01mdef\u001b[39;00m \u001b[38;5;21minner\u001b[39m(ax, \u001b[38;5;241m*\u001b[39margs, data\u001b[38;5;241m=\u001b[39m\u001b[38;5;28;01mNone\u001b[39;00m, \u001b[38;5;241m*\u001b[39m\u001b[38;5;241m*\u001b[39mkwargs):\n\u001b[1;32m   1472\u001b[0m     \u001b[38;5;28;01mif\u001b[39;00m data \u001b[38;5;129;01mis\u001b[39;00m \u001b[38;5;28;01mNone\u001b[39;00m:\n\u001b[0;32m-> 1473\u001b[0m         \u001b[38;5;28;01mreturn\u001b[39;00m \u001b[43mfunc\u001b[49m\u001b[43m(\u001b[49m\n\u001b[1;32m   1474\u001b[0m \u001b[43m            \u001b[49m\u001b[43max\u001b[49m\u001b[43m,\u001b[49m\n\u001b[1;32m   1475\u001b[0m \u001b[43m            \u001b[49m\u001b[38;5;241;43m*\u001b[39;49m\u001b[38;5;28;43mmap\u001b[39;49m\u001b[43m(\u001b[49m\u001b[43msanitize_sequence\u001b[49m\u001b[43m,\u001b[49m\u001b[43m \u001b[49m\u001b[43margs\u001b[49m\u001b[43m)\u001b[49m\u001b[43m,\u001b[49m\n\u001b[1;32m   1476\u001b[0m \u001b[43m            \u001b[49m\u001b[38;5;241;43m*\u001b[39;49m\u001b[38;5;241;43m*\u001b[39;49m\u001b[43m{\u001b[49m\u001b[43mk\u001b[49m\u001b[43m:\u001b[49m\u001b[43m \u001b[49m\u001b[43msanitize_sequence\u001b[49m\u001b[43m(\u001b[49m\u001b[43mv\u001b[49m\u001b[43m)\u001b[49m\u001b[43m \u001b[49m\u001b[38;5;28;43;01mfor\u001b[39;49;00m\u001b[43m \u001b[49m\u001b[43mk\u001b[49m\u001b[43m,\u001b[49m\u001b[43m \u001b[49m\u001b[43mv\u001b[49m\u001b[43m \u001b[49m\u001b[38;5;129;43;01min\u001b[39;49;00m\u001b[43m \u001b[49m\u001b[43mkwargs\u001b[49m\u001b[38;5;241;43m.\u001b[39;49m\u001b[43mitems\u001b[49m\u001b[43m(\u001b[49m\u001b[43m)\u001b[49m\u001b[43m}\u001b[49m\u001b[43m)\u001b[49m\n\u001b[1;32m   1478\u001b[0m     bound \u001b[38;5;241m=\u001b[39m new_sig\u001b[38;5;241m.\u001b[39mbind(ax, \u001b[38;5;241m*\u001b[39margs, \u001b[38;5;241m*\u001b[39m\u001b[38;5;241m*\u001b[39mkwargs)\n\u001b[1;32m   1479\u001b[0m     auto_label \u001b[38;5;241m=\u001b[39m (bound\u001b[38;5;241m.\u001b[39marguments\u001b[38;5;241m.\u001b[39mget(label_namer)\n\u001b[1;32m   1480\u001b[0m                   \u001b[38;5;129;01mor\u001b[39;00m bound\u001b[38;5;241m.\u001b[39mkwargs\u001b[38;5;241m.\u001b[39mget(label_namer))\n",
      "File \u001b[0;32m~/.local/lib/python3.10/site-packages/matplotlib/axes/_axes.py:4876\u001b[0m, in \u001b[0;36mAxes.scatter\u001b[0;34m(self, x, y, s, c, marker, cmap, norm, vmin, vmax, alpha, linewidths, edgecolors, plotnonfinite, **kwargs)\u001b[0m\n\u001b[1;32m   4870\u001b[0m         linewidths \u001b[38;5;241m=\u001b[39m [\n\u001b[1;32m   4871\u001b[0m             lw \u001b[38;5;28;01mif\u001b[39;00m lw \u001b[38;5;129;01mis\u001b[39;00m \u001b[38;5;129;01mnot\u001b[39;00m \u001b[38;5;28;01mNone\u001b[39;00m \u001b[38;5;28;01melse\u001b[39;00m mpl\u001b[38;5;241m.\u001b[39mrcParams[\u001b[38;5;124m'\u001b[39m\u001b[38;5;124mlines.linewidth\u001b[39m\u001b[38;5;124m'\u001b[39m]\n\u001b[1;32m   4872\u001b[0m             \u001b[38;5;28;01mfor\u001b[39;00m lw \u001b[38;5;129;01min\u001b[39;00m linewidths]\n\u001b[1;32m   4874\u001b[0m offsets \u001b[38;5;241m=\u001b[39m np\u001b[38;5;241m.\u001b[39mma\u001b[38;5;241m.\u001b[39mcolumn_stack([x, y])\n\u001b[0;32m-> 4876\u001b[0m collection \u001b[38;5;241m=\u001b[39m \u001b[43mmcoll\u001b[49m\u001b[38;5;241;43m.\u001b[39;49m\u001b[43mPathCollection\u001b[49m\u001b[43m(\u001b[49m\n\u001b[1;32m   4877\u001b[0m \u001b[43m    \u001b[49m\u001b[43m(\u001b[49m\u001b[43mpath\u001b[49m\u001b[43m,\u001b[49m\u001b[43m)\u001b[49m\u001b[43m,\u001b[49m\u001b[43m \u001b[49m\u001b[43mscales\u001b[49m\u001b[43m,\u001b[49m\n\u001b[1;32m   4878\u001b[0m \u001b[43m    \u001b[49m\u001b[43mfacecolors\u001b[49m\u001b[38;5;241;43m=\u001b[39;49m\u001b[43mcolors\u001b[49m\u001b[43m,\u001b[49m\n\u001b[1;32m   4879\u001b[0m \u001b[43m    \u001b[49m\u001b[43medgecolors\u001b[49m\u001b[38;5;241;43m=\u001b[39;49m\u001b[43medgecolors\u001b[49m\u001b[43m,\u001b[49m\n\u001b[1;32m   4880\u001b[0m \u001b[43m    \u001b[49m\u001b[43mlinewidths\u001b[49m\u001b[38;5;241;43m=\u001b[39;49m\u001b[43mlinewidths\u001b[49m\u001b[43m,\u001b[49m\n\u001b[1;32m   4881\u001b[0m \u001b[43m    \u001b[49m\u001b[43moffsets\u001b[49m\u001b[38;5;241;43m=\u001b[39;49m\u001b[43moffsets\u001b[49m\u001b[43m,\u001b[49m\n\u001b[1;32m   4882\u001b[0m \u001b[43m    \u001b[49m\u001b[43moffset_transform\u001b[49m\u001b[38;5;241;43m=\u001b[39;49m\u001b[43mkwargs\u001b[49m\u001b[38;5;241;43m.\u001b[39;49m\u001b[43mpop\u001b[49m\u001b[43m(\u001b[49m\u001b[38;5;124;43m'\u001b[39;49m\u001b[38;5;124;43mtransform\u001b[39;49m\u001b[38;5;124;43m'\u001b[39;49m\u001b[43m,\u001b[49m\u001b[43m \u001b[49m\u001b[38;5;28;43mself\u001b[39;49m\u001b[38;5;241;43m.\u001b[39;49m\u001b[43mtransData\u001b[49m\u001b[43m)\u001b[49m\u001b[43m,\u001b[49m\n\u001b[1;32m   4883\u001b[0m \u001b[43m    \u001b[49m\u001b[43malpha\u001b[49m\u001b[38;5;241;43m=\u001b[39;49m\u001b[43malpha\u001b[49m\u001b[43m,\u001b[49m\n\u001b[1;32m   4884\u001b[0m \u001b[43m\u001b[49m\u001b[43m)\u001b[49m\n\u001b[1;32m   4885\u001b[0m collection\u001b[38;5;241m.\u001b[39mset_transform(mtransforms\u001b[38;5;241m.\u001b[39mIdentityTransform())\n\u001b[1;32m   4886\u001b[0m \u001b[38;5;28;01mif\u001b[39;00m colors \u001b[38;5;129;01mis\u001b[39;00m \u001b[38;5;28;01mNone\u001b[39;00m:\n",
      "File \u001b[0;32m~/.local/lib/python3.10/site-packages/matplotlib/collections.py:1027\u001b[0m, in \u001b[0;36mPathCollection.__init__\u001b[0;34m(self, paths, sizes, **kwargs)\u001b[0m\n\u001b[1;32m   1013\u001b[0m \u001b[38;5;28;01mdef\u001b[39;00m \u001b[38;5;21m__init__\u001b[39m(\u001b[38;5;28mself\u001b[39m, paths, sizes\u001b[38;5;241m=\u001b[39m\u001b[38;5;28;01mNone\u001b[39;00m, \u001b[38;5;241m*\u001b[39m\u001b[38;5;241m*\u001b[39mkwargs):\n\u001b[1;32m   1014\u001b[0m \u001b[38;5;250m    \u001b[39m\u001b[38;5;124;03m\"\"\"\u001b[39;00m\n\u001b[1;32m   1015\u001b[0m \u001b[38;5;124;03m    Parameters\u001b[39;00m\n\u001b[1;32m   1016\u001b[0m \u001b[38;5;124;03m    ----------\u001b[39;00m\n\u001b[0;32m   (...)\u001b[0m\n\u001b[1;32m   1024\u001b[0m \u001b[38;5;124;03m        Forwarded to `.Collection`.\u001b[39;00m\n\u001b[1;32m   1025\u001b[0m \u001b[38;5;124;03m    \"\"\"\u001b[39;00m\n\u001b[0;32m-> 1027\u001b[0m     \u001b[38;5;28;43msuper\u001b[39;49m\u001b[43m(\u001b[49m\u001b[43m)\u001b[49m\u001b[38;5;241;43m.\u001b[39;49m\u001b[38;5;21;43m__init__\u001b[39;49m\u001b[43m(\u001b[49m\u001b[38;5;241;43m*\u001b[39;49m\u001b[38;5;241;43m*\u001b[39;49m\u001b[43mkwargs\u001b[49m\u001b[43m)\u001b[49m\n\u001b[1;32m   1028\u001b[0m     \u001b[38;5;28mself\u001b[39m\u001b[38;5;241m.\u001b[39mset_paths(paths)\n\u001b[1;32m   1029\u001b[0m     \u001b[38;5;28mself\u001b[39m\u001b[38;5;241m.\u001b[39mset_sizes(sizes)\n",
      "File \u001b[0;32m~/.local/lib/python3.10/site-packages/matplotlib/collections.py:197\u001b[0m, in \u001b[0;36mCollection.__init__\u001b[0;34m(self, edgecolors, facecolors, linewidths, linestyles, capstyle, joinstyle, antialiaseds, offsets, offset_transform, norm, cmap, pickradius, hatch, urls, zorder, **kwargs)\u001b[0m\n\u001b[1;32m    194\u001b[0m     \u001b[38;5;28mself\u001b[39m\u001b[38;5;241m.\u001b[39m_joinstyle \u001b[38;5;241m=\u001b[39m \u001b[38;5;28;01mNone\u001b[39;00m\n\u001b[1;32m    196\u001b[0m \u001b[38;5;28;01mif\u001b[39;00m offsets \u001b[38;5;129;01mis\u001b[39;00m \u001b[38;5;129;01mnot\u001b[39;00m \u001b[38;5;28;01mNone\u001b[39;00m:\n\u001b[0;32m--> 197\u001b[0m     offsets \u001b[38;5;241m=\u001b[39m \u001b[43mnp\u001b[49m\u001b[38;5;241;43m.\u001b[39;49m\u001b[43masanyarray\u001b[49m\u001b[43m(\u001b[49m\u001b[43moffsets\u001b[49m\u001b[43m,\u001b[49m\u001b[43m \u001b[49m\u001b[38;5;28;43mfloat\u001b[39;49m\u001b[43m)\u001b[49m\n\u001b[1;32m    198\u001b[0m     \u001b[38;5;66;03m# Broadcast (2,) -> (1, 2) but nothing else.\u001b[39;00m\n\u001b[1;32m    199\u001b[0m     \u001b[38;5;28;01mif\u001b[39;00m offsets\u001b[38;5;241m.\u001b[39mshape \u001b[38;5;241m==\u001b[39m (\u001b[38;5;241m2\u001b[39m,):\n",
      "\u001b[0;31mValueError\u001b[0m: setting an array element with a sequence."
     ]
    },
    {
     "data": {
      "image/png": "[encoded data removed]",
      "text/plain": [
       "<Figure size 800x800 with 1 Axes>"
      ]
     },
     "metadata": {},
     "output_type": "display_data"
    }
   ],
   "source": [
    "osmnx.draw_graph(graph)"
   ]
  },
  {
   "cell_type": "code",
   "execution_count": null,
   "id": "1f331048-8ada-496f-ad48-003b2d13682f",
   "metadata": {},
   "outputs": [],
   "source": []
  },
  {
   "cell_type": "code",
   "execution_count": null,
   "id": "25584fd7-b397-4a80-a94a-f8de4954c125",
   "metadata": {},
   "outputs": [],
   "source": []
  },
  {
   "cell_type": "code",
   "execution_count": null,
   "id": "1ac14631-20df-4166-9c87-164d172c35cd",
   "metadata": {},
   "outputs": [],
   "source": []
  },
  {
   "cell_type": "code",
   "execution_count": null,
   "id": "67192e32-4e76-4305-9418-029f21415ecd",
   "metadata": {},
   "outputs": [],
   "source": []
  },
  {
   "cell_type": "code",
   "execution_count": null,
   "id": "5b8f8b3e-6d9d-4f9d-bba7-8ad777197435",
   "metadata": {},
   "outputs": [],
   "source": []
  },
  {
   "cell_type": "code",
   "execution_count": null,
   "id": "37576600-7fa7-44fc-bb0c-8d0e72b898a2",
   "metadata": {},
   "outputs": [],
   "source": [
    "graph2= osmnx.read_offline_osmnx('nodes.shp','edges.shp')"
   ]
  },
  {
   "cell_type": "code",
   "execution_count": null,
   "id": "1387370b-7682-499b-92c8-6312c10661b4",
   "metadata": {},
   "outputs": [],
   "source": []
  },
  {
   "cell_type": "code",
   "execution_count": null,
   "id": "695b21f6-0d16-4ebd-a0ed-2d20ae120936",
   "metadata": {},
   "outputs": [],
   "source": [
    "origin = (55.764958, 37.605366)\n",
    "destination = (55.751884, 37.651736)\n",
    "shortest_route_by_length = osmnx.search_shortest_route(graph2, 'length', origin, destination)\n",
    "shortest_route_by_time = osmnx.search_shortest_route(graph2, 'time', origin, destination)"
   ]
  },
  {
   "cell_type": "code",
   "execution_count": null,
   "id": "78130ead-8f46-4884-8ea1-a9ec15288943",
   "metadata": {},
   "outputs": [],
   "source": [
    "result_length = osmnx.search_route_length(graph2, shortest_route_by_length)\n",
    "print(result_length)"
   ]
  },
  {
   "cell_type": "code",
   "execution_count": null,
   "id": "db2a5888-8a7a-470a-b328-ddef39300049",
   "metadata": {},
   "outputs": [],
   "source": [
    "osmnx.draw_shortest_route(graph2, shortest_route_by_length)"
   ]
  },
  {
   "cell_type": "code",
   "execution_count": null,
   "id": "8cd676c2-f72a-4200-999b-4a4cd045edc3",
   "metadata": {},
   "outputs": [],
   "source": [
    "osmnx.draw_shortest_route(graph2, shortest_route_by_time)"
   ]
  },
  {
   "cell_type": "code",
   "execution_count": null,
   "id": "9f619d1a-310f-4d5d-b211-5d1daf3b584d",
   "metadata": {},
   "outputs": [],
   "source": [
    "#osmnx.save_graph(graph)"
   ]
  },
  {
   "cell_type": "code",
   "execution_count": null,
   "id": "23c4a449-9504-4323-877c-30c53d69db7e",
   "metadata": {},
   "outputs": [],
   "source": [
    "gdf[:5]"
   ]
  },
  {
   "cell_type": "code",
   "execution_count": null,
   "id": "3ded9e42-aff4-4622-b393-75c8e61a1568",
   "metadata": {},
   "outputs": [],
   "source": []
  }
 ],
 "metadata": {
  "kernelspec": {
   "display_name": "Python 3 (ipykernel)",
   "language": "python",
   "name": "python3"
  },
  "language_info": {
   "codemirror_mode": {
    "name": "ipython",
    "version": 3
   },
   "file_extension": ".py",
   "mimetype": "text/x-python",
   "name": "python",
   "nbconvert_exporter": "python",
   "pygments_lexer": "ipython3",
   "version": "3.10.12"
  }
 },
 "nbformat": 4,
 "nbformat_minor": 5
}
